{
 "cells": [
  {
   "cell_type": "code",
   "execution_count": 1,
   "metadata": {
    "collapsed": true
   },
   "outputs": [],
   "source": [
    "import pandas as pd\n",
    "import matplotlib.pyplot as plt"
   ]
  },
  {
   "cell_type": "code",
   "execution_count": 2,
   "metadata": {
    "collapsed": false
   },
   "outputs": [],
   "source": [
    "df = pd.read_csv(\"../../311_Service_Requests_from_2010_to_Present.csv\", dtype = 'unicode')"
   ]
  },
  {
   "cell_type": "code",
   "execution_count": 27,
   "metadata": {
    "collapsed": false
   },
   "outputs": [
    {
     "data": {
      "text/plain": [
       "Index([u'Unique Key', u'Created Date', u'Closed Date', u'Agency', u'Agency Name', u'Complaint Type', u'Descriptor', u'Location Type', u'Incident Zip', u'Incident Address', u'Street Name', u'Cross Street 1', u'Cross Street 2', u'Intersection Street 1', u'Intersection Street 2', u'Address Type', u'City', u'Landmark', u'Facility Type', u'Status', u'Due Date', u'Resolution Action Updated Date', u'Community Board', u'Borough', u'X Coordinate (State Plane)', u'Y Coordinate (State Plane)', u'Park Facility Name', u'Park Borough', u'School Name', u'School Number', u'School Region', u'School Code', u'School Phone Number', u'School Address', u'School City', u'School State', u'School Zip', u'School Not Found', u'School or Citywide Complaint', u'Vehicle Type', u'Taxi Company Borough', u'Taxi Pick Up Location', u'Bridge Highway Name', u'Bridge Highway Direction', u'Road Ramp', u'Bridge Highway Segment', u'Garage Lot Name', u'Ferry Direction', u'Ferry Terminal Name', u'Latitude', u'Longitude', u'Location'], dtype='object')"
      ]
     },
     "execution_count": 27,
     "metadata": {},
     "output_type": "execute_result"
    }
   ],
   "source": [
    "df.columns"
   ]
  },
  {
   "cell_type": "code",
   "execution_count": 3,
   "metadata": {
    "collapsed": false
   },
   "outputs": [
    {
     "data": {
      "text/html": [
       "<div style=\"max-height:1000px;max-width:1500px;overflow:auto;\">\n",
       "<table border=\"1\" class=\"dataframe\">\n",
       "  <thead>\n",
       "    <tr style=\"text-align: right;\">\n",
       "      <th></th>\n",
       "      <th>Unique Key</th>\n",
       "      <th>Created Date</th>\n",
       "      <th>Closed Date</th>\n",
       "      <th>Agency</th>\n",
       "      <th>Agency Name</th>\n",
       "      <th>Complaint Type</th>\n",
       "      <th>Location Type</th>\n",
       "      <th>Incident Zip</th>\n",
       "      <th>Status</th>\n",
       "      <th>Due Date</th>\n",
       "      <th>Resolution Action Updated Date</th>\n",
       "      <th>Community Board</th>\n",
       "      <th>Borough</th>\n",
       "      <th>School Name</th>\n",
       "    </tr>\n",
       "  </thead>\n",
       "  <tbody>\n",
       "    <tr>\n",
       "      <th>0</th>\n",
       "      <td> 29607601</td>\n",
       "      <td> 12/31/2014 12:00:00 AM</td>\n",
       "      <td> NaN</td>\n",
       "      <td> HPD</td>\n",
       "      <td> Department of Housing Preservation and Develop...</td>\n",
       "      <td>            APPLIANCE</td>\n",
       "      <td> RESIDENTIAL BUILDING</td>\n",
       "      <td> 11218</td>\n",
       "      <td> Open</td>\n",
       "      <td> NaN</td>\n",
       "      <td> 12/31/2014 12:00:00 AM</td>\n",
       "      <td>  12 BROOKLYN</td>\n",
       "      <td>  BROOKLYN</td>\n",
       "      <td> Unspecified</td>\n",
       "    </tr>\n",
       "    <tr>\n",
       "      <th>1</th>\n",
       "      <td> 29607629</td>\n",
       "      <td> 12/31/2014 12:00:00 AM</td>\n",
       "      <td> NaN</td>\n",
       "      <td> HPD</td>\n",
       "      <td> Department of Housing Preservation and Develop...</td>\n",
       "      <td> UNSANITARY CONDITION</td>\n",
       "      <td> RESIDENTIAL BUILDING</td>\n",
       "      <td> 10027</td>\n",
       "      <td> Open</td>\n",
       "      <td> NaN</td>\n",
       "      <td> 12/31/2014 12:00:00 AM</td>\n",
       "      <td> 10 MANHATTAN</td>\n",
       "      <td> MANHATTAN</td>\n",
       "      <td> Unspecified</td>\n",
       "    </tr>\n",
       "    <tr>\n",
       "      <th>2</th>\n",
       "      <td> 29607635</td>\n",
       "      <td> 12/31/2014 12:00:00 AM</td>\n",
       "      <td> NaN</td>\n",
       "      <td> HPD</td>\n",
       "      <td> Department of Housing Preservation and Develop...</td>\n",
       "      <td> UNSANITARY CONDITION</td>\n",
       "      <td> RESIDENTIAL BUILDING</td>\n",
       "      <td> 10016</td>\n",
       "      <td> Open</td>\n",
       "      <td> NaN</td>\n",
       "      <td> 12/31/2014 12:00:00 AM</td>\n",
       "      <td> 06 MANHATTAN</td>\n",
       "      <td> MANHATTAN</td>\n",
       "      <td> Unspecified</td>\n",
       "    </tr>\n",
       "    <tr>\n",
       "      <th>3</th>\n",
       "      <td> 29607646</td>\n",
       "      <td> 12/31/2014 12:00:00 AM</td>\n",
       "      <td> NaN</td>\n",
       "      <td> HPD</td>\n",
       "      <td> Department of Housing Preservation and Develop...</td>\n",
       "      <td> UNSANITARY CONDITION</td>\n",
       "      <td> RESIDENTIAL BUILDING</td>\n",
       "      <td> 11225</td>\n",
       "      <td> Open</td>\n",
       "      <td> NaN</td>\n",
       "      <td> 12/31/2014 12:00:00 AM</td>\n",
       "      <td>  09 BROOKLYN</td>\n",
       "      <td>  BROOKLYN</td>\n",
       "      <td> Unspecified</td>\n",
       "    </tr>\n",
       "    <tr>\n",
       "      <th>4</th>\n",
       "      <td> 29607856</td>\n",
       "      <td> 12/31/2014 12:00:00 AM</td>\n",
       "      <td> NaN</td>\n",
       "      <td> HPD</td>\n",
       "      <td> Department of Housing Preservation and Develop...</td>\n",
       "      <td>      FLOORING/STAIRS</td>\n",
       "      <td> RESIDENTIAL BUILDING</td>\n",
       "      <td> 10458</td>\n",
       "      <td> Open</td>\n",
       "      <td> NaN</td>\n",
       "      <td> 12/31/2014 12:00:00 AM</td>\n",
       "      <td>     07 BRONX</td>\n",
       "      <td>     BRONX</td>\n",
       "      <td> Unspecified</td>\n",
       "    </tr>\n",
       "  </tbody>\n",
       "</table>\n",
       "</div>"
      ],
      "text/plain": [
       "  Unique Key            Created Date Closed Date Agency  \\\n",
       "0   29607601  12/31/2014 12:00:00 AM         NaN    HPD   \n",
       "1   29607629  12/31/2014 12:00:00 AM         NaN    HPD   \n",
       "2   29607635  12/31/2014 12:00:00 AM         NaN    HPD   \n",
       "3   29607646  12/31/2014 12:00:00 AM         NaN    HPD   \n",
       "4   29607856  12/31/2014 12:00:00 AM         NaN    HPD   \n",
       "\n",
       "                                         Agency Name        Complaint Type  \\\n",
       "0  Department of Housing Preservation and Develop...             APPLIANCE   \n",
       "1  Department of Housing Preservation and Develop...  UNSANITARY CONDITION   \n",
       "2  Department of Housing Preservation and Develop...  UNSANITARY CONDITION   \n",
       "3  Department of Housing Preservation and Develop...  UNSANITARY CONDITION   \n",
       "4  Department of Housing Preservation and Develop...       FLOORING/STAIRS   \n",
       "\n",
       "          Location Type Incident Zip Status Due Date  \\\n",
       "0  RESIDENTIAL BUILDING        11218   Open      NaN   \n",
       "1  RESIDENTIAL BUILDING        10027   Open      NaN   \n",
       "2  RESIDENTIAL BUILDING        10016   Open      NaN   \n",
       "3  RESIDENTIAL BUILDING        11225   Open      NaN   \n",
       "4  RESIDENTIAL BUILDING        10458   Open      NaN   \n",
       "\n",
       "  Resolution Action Updated Date Community Board    Borough  School Name  \n",
       "0         12/31/2014 12:00:00 AM     12 BROOKLYN   BROOKLYN  Unspecified  \n",
       "1         12/31/2014 12:00:00 AM    10 MANHATTAN  MANHATTAN  Unspecified  \n",
       "2         12/31/2014 12:00:00 AM    06 MANHATTAN  MANHATTAN  Unspecified  \n",
       "3         12/31/2014 12:00:00 AM     09 BROOKLYN   BROOKLYN  Unspecified  \n",
       "4         12/31/2014 12:00:00 AM        07 BRONX      BRONX  Unspecified  "
      ]
     },
     "execution_count": 3,
     "metadata": {},
     "output_type": "execute_result"
    }
   ],
   "source": [
    "df1 = df[[u'Unique Key', u'Created Date', u'Closed Date', u'Agency', u'Agency Name', u'Complaint Type', u'Location Type', u'Incident Zip', u'Status', u'Due Date', u'Resolution Action Updated Date', u'Community Board', u'Borough', u'School Name']]\n",
    "df1.head()"
   ]
  },
  {
   "cell_type": "code",
   "execution_count": 25,
   "metadata": {
    "collapsed": false
   },
   "outputs": [
    {
     "data": {
      "text/plain": [
       "array(['BROOKLYN', 'MANHATTAN', 'BRONX', 'QUEENS', 'STATEN ISLAND',\n",
       "       'Unspecified'], dtype=object)"
      ]
     },
     "execution_count": 25,
     "metadata": {},
     "output_type": "execute_result"
    }
   ],
   "source": [
    "df1.Borough.unique()"
   ]
  },
  {
   "cell_type": "code",
   "execution_count": 26,
   "metadata": {
    "collapsed": false
   },
   "outputs": [
    {
     "data": {
      "text/plain": [
       "array(['HPD', 'DOHMH', 'NYPD', 'DOT', 'TLC', 'DOB', 'DSNY', 'DEP', 'CHALL',\n",
       "       'HRA', 'DPR', 'DOF', 'DCA', 'DOE', 'FDNY', 'EDC', 'DHS', '3-1-1',\n",
       "       'DOITT', 'DCLA', 'OATH', 'DFTA', 'OCME', 'OEM', 'AJC', 'DOC', 'DOP',\n",
       "       'MOIA', 'DV', 'OPS', 'MOPD', 'LAW', 'NYCPPF', 'NYCERS', 'COIB',\n",
       "       'NYCSERVICE', 'CCRB', 'NYCOOA', 'NYCHA', 'MOC', 'MOVA', 'TFA',\n",
       "       'OCHIA', 'OPA', 'DYCD', 'MOFTB', 'LOFT', 'DCAS', 'UNCC'], dtype=object)"
      ]
     },
     "execution_count": 26,
     "metadata": {},
     "output_type": "execute_result"
    }
   ],
   "source": [
    "df1.Agency.unique()"
   ]
  },
  {
   "cell_type": "code",
   "execution_count": 4,
   "metadata": {
    "collapsed": false
   },
   "outputs": [],
   "source": [
    "df1 = df1.dropna(subset = [u'Created Date', u'Agency', 'Complaint Type',u'Borough'])\n",
    "df1 = df1[df1['Agency']!='3-1-1']"
   ]
  },
  {
   "cell_type": "code",
   "execution_count": 5,
   "metadata": {
    "collapsed": false
   },
   "outputs": [],
   "source": [
    "df_BRK = df1[df1.Borough == 'BROOKLYN']\n",
    "df_MAN = df1[df1.Borough == 'MANHATTAN']\n",
    "df_BRX = df1[df1.Borough == 'BRONX']\n",
    "df_QUE = df1[df1.Borough == 'QUEENS']\n",
    "df_STI = df1[df1.Borough == 'STATEN ISLAND']"
   ]
  },
  {
   "cell_type": "code",
   "execution_count": 7,
   "metadata": {
    "collapsed": false
   },
   "outputs": [],
   "source": [
    "boros = list(df1.Borough.unique())\n",
    "\n",
    "def draw_bar(df,boro):\n",
    "    filename = 'Total number of complaints in %s' %boro\n",
    "    df_groupby = df[['Unique Key', 'Agency']].groupby('Agency').count()\n",
    "    df_groupby.plot(kind = 'bar', legend = False, title = filename)\n",
    "    plt.savefig('graphs/%s' %boro)\n",
    "    plt.close()\n",
    "\n",
    "\n",
    "\n",
    "for boro in boros:\n",
    "    df_boro = df1[df1.Borough == boro]\n",
    "    draw_bar(df_boro, boro)\n",
    "\n",
    "draw_bar(df1, 'NYC')\n"
   ]
  },
  {
   "cell_type": "code",
   "execution_count": 1,
   "metadata": {
    "collapsed": true
   },
   "outputs": [],
   "source": [
    "\n",
    "\n",
    "import csv\n",
    "import pandas as pd \n",
    "import sys\n",
    "\n",
    "\n",
    "def get_borough():\n",
    "\t''' \n",
    "\tLets user input a borough name of NYC, which is 'BROOKLYN', \n",
    "\t'MANHATTAN', 'BRONX', 'QUEENS', or 'STATEN ISLAND'].\n",
    "\t'''\n",
    "\n",
    "\tboroughs = ['BROOKLYN', 'MANHATTAN', 'BRONX', 'QUEENS', 'STATEN ISLAND']\n",
    "\n",
    "\twhile True:\n",
    "\t\ttry:\n",
    "\t\t\tborough = raw_input(\"Enter a borough name ('BROOKLYN', 'MANHATTAN', 'BRONX', 'QUEENS', or 'STATEN ISLAND', not case-sensitive), or enter 'finish' to exit: \").upper()\n",
    "\t\t\tif borough == 'FINISH':\n",
    "\t\t\t\tprint \"You entered 'finish'. Exiting the interactive mode...\"\n",
    "\t\t\t\treturn borough\n",
    "\t\t\t\n",
    "\t\t\telif borough in boroughs:\n",
    "\t\t\t\treturn borough\n",
    "\n",
    "        #catches invalid input    \n",
    "\t\texcept ValueError:\n",
    "\t\t\tprint \"\\nOops!  Invalid input.\"\n",
    "\t\texcept KeyboardInterrupt:\n",
    "\t\t\tprint 'You pressed Ctrl+C! Exiting...'\n",
    "\t\t\tsys.exit()   \n",
    "\n"
   ]
  },
  {
   "cell_type": "code",
   "execution_count": 4,
   "metadata": {
    "collapsed": false
   },
   "outputs": [
    {
     "name": "stdout",
     "output_type": "stream",
     "text": [
      "Enter a borough name ('BROOKLYN', 'MANHATTAN', 'BRONX', 'QUEENS', or 'STATEN ISLAND', not case-sensitive), or enter 'finish' to exit: finish\n",
      "You entered 'finish'. Exiting the interactive mode...\n"
     ]
    }
   ],
   "source": [
    "boro = get_borough()"
   ]
  },
  {
   "cell_type": "code",
   "execution_count": 6,
   "metadata": {
    "collapsed": false
   },
   "outputs": [],
   "source": [
    "def get_agency():\n",
    "\t''' \n",
    "\tLets user input an agency code.\n",
    "\t'''\n",
    "\n",
    "\tagencies = ['HPD', 'DOHMH', 'NYPD', 'DOT', 'TLC', 'DOB', 'DSNY', 'DEP', 'CHALL', 'HRA', 'DPR', 'DOF', 'DCA', 'DOE', 'FDNY', 'EDC', 'DHS', 'DOITT', 'DCLA', 'OATH', 'DFTA', 'OCME', 'OEM', 'AJC', 'DOC', 'DOP', 'MOIA', 'DV', 'OPS', 'MOPD', 'LAW', 'NYCPPF', 'NYCERS', 'COIB', 'NYCSERVICE', 'CCRB', 'NYCOOA', 'NYCHA', 'MOC', 'MOVA', 'TFA', 'OCHIA', 'OPA', 'DYCD', 'MOFTB', 'LOFT', 'DCAS', 'UNCC']\n",
    "\n",
    "\twhile True:\n",
    "\t\ttry:\n",
    "\t\t\tagency = raw_input(\"Enter an Agency code, \\nchoose from 'HPD', 'DOHMH', 'NYPD', 'DOT', 'TLC', 'DOB', 'DSNY', 'DEP', 'CHALL', \\n'HRA', 'DPR', 'DOF', 'DCA', 'DOE', 'FDNY', 'EDC', 'DHS', \\n'DOITT', 'DCLA', 'OATH', 'DFTA', 'OCME', 'OEM', 'AJC', 'DOC', 'DOP', \\n'MOIA', 'DV', 'OPS', 'MOPD', 'LAW', 'NYCPPF', 'NYCERS', 'COIB', \\n'NYCSERVICE', 'CCRB', 'NYCOOA', 'NYCHA', 'MOC', 'MOVA', 'TFA', \\n'OCHIA', 'OPA', 'DYCD', 'MOFTB', 'LOFT', 'DCAS', 'UNCC'; \\nor enter 'finish' to exit: \").upper()\n",
    "\t\t\tif agency == 'FINISH':   # to be used later in the main program to exit the program\n",
    "\t\t\t\tprint \"You entered 'finish'. Exiting the interactive mode...\"\n",
    "\t\t\t\treturn agency\n",
    "\t\t\t\n",
    "\t\t\telif agency in agencies:\n",
    "\t\t\t\treturn agency\n",
    "\n",
    "        #catches invalid input    \n",
    "\t\texcept ValueError:\n",
    "\t\t\tprint \"\\nOops!  Invalid input.\"\n",
    "\t\texcept KeyboardInterrupt:\n",
    "\t\t\tprint 'You pressed Ctrl+C! Exiting...'\n",
    "\t\t\tsys.exit()   \n"
   ]
  },
  {
   "cell_type": "code",
   "execution_count": 8,
   "metadata": {
    "collapsed": false
   },
   "outputs": [
    {
     "name": "stdout",
     "output_type": "stream",
     "text": [
      "Enter an Agency code, \n",
      "choose from 'HPD', 'DOHMH', 'NYPD', 'DOT', 'TLC', 'DOB', 'DSNY', 'DEP', 'CHALL', \n",
      "'HRA', 'DPR', 'DOF', 'DCA', 'DOE', 'FDNY', 'EDC', 'DHS', \n",
      "'DOITT', 'DCLA', 'OATH', 'DFTA', 'OCME', 'OEM', 'AJC', 'DOC', 'DOP', \n",
      "'MOIA', 'DV', 'OPS', 'MOPD', 'LAW', 'NYCPPF', 'NYCERS', 'COIB', \n",
      "'NYCSERVICE', 'CCRB', 'NYCOOA', 'NYCHA', 'MOC', 'MOVA', 'TFA', \n",
      "'OCHIA', 'OPA', 'DYCD', 'MOFTB', 'LOFT', 'DCAS', 'UNCC'; \n",
      "or enter 'finish' to exit: jsjsjs\n",
      "Enter an Agency code, \n",
      "choose from 'HPD', 'DOHMH', 'NYPD', 'DOT', 'TLC', 'DOB', 'DSNY', 'DEP', 'CHALL', \n",
      "'HRA', 'DPR', 'DOF', 'DCA', 'DOE', 'FDNY', 'EDC', 'DHS', \n",
      "'DOITT', 'DCLA', 'OATH', 'DFTA', 'OCME', 'OEM', 'AJC', 'DOC', 'DOP', \n",
      "'MOIA', 'DV', 'OPS', 'MOPD', 'LAW', 'NYCPPF', 'NYCERS', 'COIB', \n",
      "'NYCSERVICE', 'CCRB', 'NYCOOA', 'NYCHA', 'MOC', 'MOVA', 'TFA', \n",
      "'OCHIA', 'OPA', 'DYCD', 'MOFTB', 'LOFT', 'DCAS', 'UNCC'; \n",
      "or enter 'finish' to exit: opa\n"
     ]
    }
   ],
   "source": [
    "agency = get_agency()"
   ]
  },
  {
   "cell_type": "code",
   "execution_count": 11,
   "metadata": {
    "collapsed": false
   },
   "outputs": [
    {
     "ename": "SyntaxError",
     "evalue": "'break' outside loop (<ipython-input-11-f14c80c698f4>, line 36)",
     "output_type": "error",
     "traceback": [
      "\u001b[0;36m  File \u001b[0;32m\"<ipython-input-11-f14c80c698f4>\"\u001b[0;36m, line \u001b[0;32m36\u001b[0m\n\u001b[0;31m    break\u001b[0m\n\u001b[0;31mSyntaxError\u001b[0m\u001b[0;31m:\u001b[0m 'break' outside loop\n"
     ]
    }
   ],
   "source": [
    "\n",
    "import pandas as pd\n",
    "import matplotlib.pyplot as plt\n",
    "\n",
    "class dataframe():\n",
    "\t'''load csv file and select relavant colomns'''\n",
    "\n",
    "\tdef __init__(self):\n",
    "\t\t'''Instantiates a class object'''\n",
    "\t\tpass\n",
    "\n",
    "\tdef load_clean_csv(self):\n",
    "\t\t'''\n",
    "\t\tLoads a csv file\n",
    "\t\tThrows an exception when IOError occurs\n",
    "\t\t'''\n",
    "\t\ttry:\n",
    "\t\t\tself.raw_df = pd.read_csv(\"../../311_Service_Requests_from_2010_to_Present.csv\", dtype = 'unicode')\n",
    "\t\texcept IOError:\n",
    "\t\t\tprint 'The file does not exit. Please check your file directory.'\n",
    "\n",
    "\t\t# Select relavent columns\n",
    "\t\tself.df = self.raw_df[[u'Unique Key', u'Created Date', u'Closed Date', u'Agency', u'Agency Name', u'Complaint Type', u'Location Type', u'Incident Zip', u'Status', u'Due Date', u'Resolution Action Updated Date', u'Community Board', u'Borough', u'School Name']]\n",
    "\t\t# Drop rows with missing data in the subset of columns\n",
    "\t\tself.df = self.df.dropna(subset = [u'Created Date', u'Agency', 'Complaint Type',u'Borough'])\n",
    "\t\t# Drop rows with Agency = 3-1-1\n",
    "\t\tself.df = self.df[self.df['Agency']!='3-1-1']\n",
    "\t\treturn self.df\n",
    "\n",
    "\n",
    "def draw_boro_bar(df,boro):\n",
    "\t'''\n",
    "\tDraws bar chart of the complaints of each agencies in a selected Borough.\n",
    "\t'''\n",
    "\tif boro == 'FINISH':\n",
    "\t\tbreak\n",
    "\tif boro != 'NYC': # Plots borough data\n",
    "\t\tdf_boro = df[df.Borough == boro]\n",
    "\t\tdf_groupby = df[['Unique Key', 'Agency']].groupby('Agency').count()\n",
    "\t\tdf_groupby.plot(kind = 'bar', legend = False, title = 'Total number of complaints in %s' %boro)\n",
    "\t\tplt.show()\n",
    "\t\tplt.close()\n",
    "\n",
    "\telse: # boro == 'NYC', plots NYC data\n",
    "\t\tdf.plot(kind = 'bar', legend = False, title = 'Total number of complaints in %s' %boro)\n",
    "\t\tplt.show()\n",
    "\t\tplt.close()\n"
   ]
  },
  {
   "cell_type": "code",
   "execution_count": null,
   "metadata": {
    "collapsed": true
   },
   "outputs": [],
   "source": []
  }
 ],
 "metadata": {
  "kernelspec": {
   "display_name": "Python 2",
   "language": "python",
   "name": "python2"
  },
  "language_info": {
   "codemirror_mode": {
    "name": "ipython",
    "version": 2
   },
   "file_extension": ".py",
   "mimetype": "text/x-python",
   "name": "python",
   "nbconvert_exporter": "python",
   "pygments_lexer": "ipython2",
   "version": "2.7.9"
  }
 },
 "nbformat": 4,
 "nbformat_minor": 0
}
