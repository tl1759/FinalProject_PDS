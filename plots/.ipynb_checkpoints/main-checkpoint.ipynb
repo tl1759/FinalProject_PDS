{
 "cells": [
  {
   "cell_type": "code",
   "execution_count": 1,
   "metadata": {
    "collapsed": true
   },
   "outputs": [],
   "source": [
    "import pandas as pd\n",
    "import matplotlib.pyplot as plt\n",
    "\n",
    "class dataframe():\n",
    "\t'''load csv file and select relavant colomns'''\n",
    "\n",
    "\tdef __init__(self):\n",
    "\t\t'''Instantiates a class object'''\n",
    "\t\tpass\n",
    "\n",
    "\tdef load_clean_csv(self):\n",
    "\t\t'''\n",
    "\t\tLoads a csv file\n",
    "\t\tThrows an exception when IOError occurs\n",
    "\t\t'''\n",
    "\t\ttry:\n",
    "\t\t\tprint \"\\nLoading data...\"\n",
    "\t\t\tself.raw_df = pd.read_csv(\"../311_Service_Requests_from_2010_to_Present.csv\", dtype = 'unicode')\n",
    "\t\texcept IOError:\n",
    "\t\t\tprint 'The file does not exit. Please check your file directory.'\n",
    "\n",
    "\t\t# Select relavent columns\n",
    "\t\tprint \"\\nCLeaning data...\"\n",
    "\t\tself.df = self.raw_df[[u'Unique Key', u'Created Date', u'Closed Date', u'Agency', u'Agency Name', u'Complaint Type', u'Location Type', u'Incident Zip', u'Status', u'Due Date', u'Resolution Action Updated Date', u'Community Board', u'Borough', u'School Name']]\n",
    "\t\t# Drop rows with missing data in the subset of columns\n",
    "\t\tself.df = self.df.dropna(subset = [u'Created Date', u'Agency', 'Complaint Type',u'Borough'])\n",
    "\t\t# Drop rows with Agency = 3-1-1\n",
    "\t\tself.df = self.df[self.df['Agency']!='3-1-1']\n",
    "\t\treturn self.df\n"
   ]
  },
  {
   "cell_type": "code",
   "execution_count": 2,
   "metadata": {
    "collapsed": false
   },
   "outputs": [],
   "source": [
    "\n",
    "\n",
    "import csv\n",
    "import pandas as pd \n",
    "import sys\n",
    "\n",
    "\n",
    "def get_borough(boroughs):\n",
    "\t''' \n",
    "\tLets user input a borough name of NYC, which is 'BROOKLYN', \n",
    "\t'MANHATTAN', 'BRONX', 'QUEENS', or 'STATEN ISLAND'.\n",
    "\t'''\n",
    "\n",
    "#\tboroughs = ['NYC', 'BROOKLYN', 'MANHATTAN', 'BRONX', 'QUEENS', 'STATEN ISLAND']\n",
    "\n",
    "\twhile True:\n",
    "\n",
    "\t\ttry:\n",
    "\t\t\tprint 'Boroughs are ' + ', '.join(boroughs) + '.'\n",
    "\t\t\tborough = raw_input(\"Enter a borough name (not case-sensitive), or enter 'finish' to exit: \").upper()\n",
    "\t\t\t\n",
    "\t\t\tif borough in boroughs:\n",
    "\t\t\t\treturn borough\t\t\t\n",
    "\t\t\telif borough == 'FINISH':   # to be used later in the main program to exit the program\n",
    "\t\t\t\tprint \"You entered 'finish'. Exiting the interactive mode...\"\n",
    "\t\t\t\treturn borough\n",
    "\t\t\t\n",
    "        #catches invalid input    \n",
    "\t\texcept ValueError:\n",
    "\t\t\tprint \"\\nOops!  Invalid input.\"\n",
    "\t\texcept KeyboardInterrupt:\n",
    "\t\t\tprint 'You pressed Ctrl+C! Exiting...'\n",
    "\t\t\tsys.exit()   \n"
   ]
  },
  {
   "cell_type": "code",
   "execution_count": 3,
   "metadata": {
    "collapsed": true
   },
   "outputs": [],
   "source": [
    "def get_agency(agencies):\n",
    "\t''' \n",
    "\tLets user input an agency code.\n",
    "\t'''\n",
    "\n",
    "\twhile True:\n",
    "\n",
    "\t\ttry:\n",
    "\t\t\tprint 'Agency codes are ' + ', '.join(agencies) + '.'\n",
    "\t\t\tagency = raw_input(\"Enter an Agency code ()not case-sensitive), \\nor enter 'finish' to exit: \").upper()\n",
    "\n",
    "\t\t\tif agency in agencies:\n",
    "\t\t\t\treturn agency\n",
    "\t\t\telif agency == 'FINISH':   # to be used later in the main program to exit the program\n",
    "\t\t\t\tprint \"You entered 'finish'. Exiting the interactive mode...\"\n",
    "\t\t\t\treturn agency\n",
    "\n",
    "        #catches invalid input    \n",
    "\t\texcept ValueError:\n",
    "\t\t\tprint \"\\nOops!  Invalid input.\"\n",
    "\t\texcept KeyboardInterrupt:\n",
    "\t\t\tprint 'You pressed Ctrl+C! Exiting...'\n",
    "\t\t\tsys.exit()   \n"
   ]
  },
  {
   "cell_type": "code",
   "execution_count": 4,
   "metadata": {
    "collapsed": true
   },
   "outputs": [],
   "source": [
    "\n",
    "def draw_boro_bar(df,boro):\n",
    "\t'''\n",
    "\tDraws bar chart of the complaints of each agencies in a selected Borough.\n",
    "\t'''\n",
    "\n",
    "\tdf_groupby = df[['Unique Key', 'Agency']].groupby('Agency').count()\n",
    "\tdf_groupby.plot(kind = 'bar', legend = False, subplots = True, title = 'Total number of complaints in %s' %boro)\n",
    "\tplt.show()\n",
    "\tplt.close()\n",
    "\n"
   ]
  },
  {
   "cell_type": "code",
   "execution_count": 5,
   "metadata": {
    "collapsed": false
   },
   "outputs": [
    {
     "name": "stdout",
     "output_type": "stream",
     "text": [
      "\n",
      "Loading data...\n",
      "\n",
      "CLeaning data...\n"
     ]
    },
    {
     "data": {
      "text/html": [
       "<div style=\"max-height:1000px;max-width:1500px;overflow:auto;\">\n",
       "<table border=\"1\" class=\"dataframe\">\n",
       "  <thead>\n",
       "    <tr style=\"text-align: right;\">\n",
       "      <th></th>\n",
       "      <th>Unique Key</th>\n",
       "      <th>Created Date</th>\n",
       "      <th>Closed Date</th>\n",
       "      <th>Agency</th>\n",
       "      <th>Agency Name</th>\n",
       "      <th>Complaint Type</th>\n",
       "      <th>Location Type</th>\n",
       "      <th>Incident Zip</th>\n",
       "      <th>Status</th>\n",
       "      <th>Due Date</th>\n",
       "      <th>Resolution Action Updated Date</th>\n",
       "      <th>Community Board</th>\n",
       "      <th>Borough</th>\n",
       "      <th>School Name</th>\n",
       "    </tr>\n",
       "  </thead>\n",
       "  <tbody>\n",
       "    <tr>\n",
       "      <th>0</th>\n",
       "      <td> 29607601</td>\n",
       "      <td> 12/31/2014 12:00:00 AM</td>\n",
       "      <td> NaN</td>\n",
       "      <td> HPD</td>\n",
       "      <td> Department of Housing Preservation and Develop...</td>\n",
       "      <td>            APPLIANCE</td>\n",
       "      <td> RESIDENTIAL BUILDING</td>\n",
       "      <td> 11218</td>\n",
       "      <td> Open</td>\n",
       "      <td> NaN</td>\n",
       "      <td> 12/31/2014 12:00:00 AM</td>\n",
       "      <td>  12 BROOKLYN</td>\n",
       "      <td>  BROOKLYN</td>\n",
       "      <td> Unspecified</td>\n",
       "    </tr>\n",
       "    <tr>\n",
       "      <th>1</th>\n",
       "      <td> 29607629</td>\n",
       "      <td> 12/31/2014 12:00:00 AM</td>\n",
       "      <td> NaN</td>\n",
       "      <td> HPD</td>\n",
       "      <td> Department of Housing Preservation and Develop...</td>\n",
       "      <td> UNSANITARY CONDITION</td>\n",
       "      <td> RESIDENTIAL BUILDING</td>\n",
       "      <td> 10027</td>\n",
       "      <td> Open</td>\n",
       "      <td> NaN</td>\n",
       "      <td> 12/31/2014 12:00:00 AM</td>\n",
       "      <td> 10 MANHATTAN</td>\n",
       "      <td> MANHATTAN</td>\n",
       "      <td> Unspecified</td>\n",
       "    </tr>\n",
       "    <tr>\n",
       "      <th>2</th>\n",
       "      <td> 29607635</td>\n",
       "      <td> 12/31/2014 12:00:00 AM</td>\n",
       "      <td> NaN</td>\n",
       "      <td> HPD</td>\n",
       "      <td> Department of Housing Preservation and Develop...</td>\n",
       "      <td> UNSANITARY CONDITION</td>\n",
       "      <td> RESIDENTIAL BUILDING</td>\n",
       "      <td> 10016</td>\n",
       "      <td> Open</td>\n",
       "      <td> NaN</td>\n",
       "      <td> 12/31/2014 12:00:00 AM</td>\n",
       "      <td> 06 MANHATTAN</td>\n",
       "      <td> MANHATTAN</td>\n",
       "      <td> Unspecified</td>\n",
       "    </tr>\n",
       "    <tr>\n",
       "      <th>3</th>\n",
       "      <td> 29607646</td>\n",
       "      <td> 12/31/2014 12:00:00 AM</td>\n",
       "      <td> NaN</td>\n",
       "      <td> HPD</td>\n",
       "      <td> Department of Housing Preservation and Develop...</td>\n",
       "      <td> UNSANITARY CONDITION</td>\n",
       "      <td> RESIDENTIAL BUILDING</td>\n",
       "      <td> 11225</td>\n",
       "      <td> Open</td>\n",
       "      <td> NaN</td>\n",
       "      <td> 12/31/2014 12:00:00 AM</td>\n",
       "      <td>  09 BROOKLYN</td>\n",
       "      <td>  BROOKLYN</td>\n",
       "      <td> Unspecified</td>\n",
       "    </tr>\n",
       "    <tr>\n",
       "      <th>4</th>\n",
       "      <td> 29607856</td>\n",
       "      <td> 12/31/2014 12:00:00 AM</td>\n",
       "      <td> NaN</td>\n",
       "      <td> HPD</td>\n",
       "      <td> Department of Housing Preservation and Develop...</td>\n",
       "      <td>      FLOORING/STAIRS</td>\n",
       "      <td> RESIDENTIAL BUILDING</td>\n",
       "      <td> 10458</td>\n",
       "      <td> Open</td>\n",
       "      <td> NaN</td>\n",
       "      <td> 12/31/2014 12:00:00 AM</td>\n",
       "      <td>     07 BRONX</td>\n",
       "      <td>     BRONX</td>\n",
       "      <td> Unspecified</td>\n",
       "    </tr>\n",
       "  </tbody>\n",
       "</table>\n",
       "</div>"
      ],
      "text/plain": [
       "  Unique Key            Created Date Closed Date Agency  \\\n",
       "0   29607601  12/31/2014 12:00:00 AM         NaN    HPD   \n",
       "1   29607629  12/31/2014 12:00:00 AM         NaN    HPD   \n",
       "2   29607635  12/31/2014 12:00:00 AM         NaN    HPD   \n",
       "3   29607646  12/31/2014 12:00:00 AM         NaN    HPD   \n",
       "4   29607856  12/31/2014 12:00:00 AM         NaN    HPD   \n",
       "\n",
       "                                         Agency Name        Complaint Type  \\\n",
       "0  Department of Housing Preservation and Develop...             APPLIANCE   \n",
       "1  Department of Housing Preservation and Develop...  UNSANITARY CONDITION   \n",
       "2  Department of Housing Preservation and Develop...  UNSANITARY CONDITION   \n",
       "3  Department of Housing Preservation and Develop...  UNSANITARY CONDITION   \n",
       "4  Department of Housing Preservation and Develop...       FLOORING/STAIRS   \n",
       "\n",
       "          Location Type Incident Zip Status Due Date  \\\n",
       "0  RESIDENTIAL BUILDING        11218   Open      NaN   \n",
       "1  RESIDENTIAL BUILDING        10027   Open      NaN   \n",
       "2  RESIDENTIAL BUILDING        10016   Open      NaN   \n",
       "3  RESIDENTIAL BUILDING        11225   Open      NaN   \n",
       "4  RESIDENTIAL BUILDING        10458   Open      NaN   \n",
       "\n",
       "  Resolution Action Updated Date Community Board    Borough  School Name  \n",
       "0         12/31/2014 12:00:00 AM     12 BROOKLYN   BROOKLYN  Unspecified  \n",
       "1         12/31/2014 12:00:00 AM    10 MANHATTAN  MANHATTAN  Unspecified  \n",
       "2         12/31/2014 12:00:00 AM    06 MANHATTAN  MANHATTAN  Unspecified  \n",
       "3         12/31/2014 12:00:00 AM     09 BROOKLYN   BROOKLYN  Unspecified  \n",
       "4         12/31/2014 12:00:00 AM        07 BRONX      BRONX  Unspecified  "
      ]
     },
     "execution_count": 5,
     "metadata": {},
     "output_type": "execute_result"
    }
   ],
   "source": [
    "df = dataframe().load_clean_csv()\n",
    "boros = list(df.Borough.unique())\n",
    "df.head()"
   ]
  },
  {
   "cell_type": "code",
   "execution_count": 4,
   "metadata": {
    "collapsed": false
   },
   "outputs": [
    {
     "name": "stdout",
     "output_type": "stream",
     "text": [
      "\n",
      "Plotting BROOKLYN bar chart...\n",
      "\n",
      "Plotting MANHATTAN bar chart...\n",
      "\n",
      "Plotting BRONX bar chart...\n",
      "\n",
      "Plotting QUEENS bar chart...\n",
      "\n",
      "Plotting STATEN ISLAND bar chart...\n",
      "\n",
      "Plotting Unspecified bar chart...\n"
     ]
    }
   ],
   "source": [
    "# for boro in boros:\n",
    "#     print \"\\nPlotting %s bar chart...\" %boro\n",
    "#     df_boro = df[df.Borough == boro]\n",
    "#     draw_boro_bar(df_boro, boro)\n",
    "\n",
    "# draw_boro_bar(df, 'NYC')"
   ]
  },
  {
   "cell_type": "code",
   "execution_count": 6,
   "metadata": {
    "collapsed": false
   },
   "outputs": [
    {
     "name": "stdout",
     "output_type": "stream",
     "text": [
      "Boroughs are BROOKLYN, MANHATTAN, BRONX, QUEENS, STATEN ISLAND, Unspecified.\n",
      "Enter a borough name (not case-sensitive), or enter 'finish' to exit: finish\n",
      "You entered 'finish'. Exiting the interactive mode...\n"
     ]
    }
   ],
   "source": [
    "boroughs = list(df.Borough.unique())\n",
    "while True:\n",
    "    boro = get_borough(boroughs)\n",
    "\n",
    "    if boro == 'FINISH':\n",
    "        break\n",
    "\n",
    "    else:\n",
    "        print \"\\nPlotting %s bar chart...\" %boro\n",
    "        df_boro = df[df.Borough == boro]\n",
    "        draw_boro_bar(df_boro, boro)\t"
   ]
  },
  {
   "cell_type": "code",
   "execution_count": 7,
   "metadata": {
    "collapsed": false
   },
   "outputs": [],
   "source": [
    "def draw_agency_pie(df, agency):\n",
    "\t'''\n",
    "\tDraws pie chart of the complaints of a selected agency in each borough.\n",
    "\t'''\n",
    "\tdf_groupby = df[['Unique Key', 'Borough']].groupby('Borough').count()\n",
    "\tdf_groupby['Unique Key'].plot(kind = 'pie', autopct='%1.1f%%', shadow=True, figsize=(8, 8), title = 'Total number of complaints for %s in each Borough' %boro)\n",
    "\tplt.show()\n",
    "\tplt.close()"
   ]
  },
  {
   "cell_type": "code",
   "execution_count": null,
   "metadata": {
    "collapsed": false
   },
   "outputs": [
    {
     "name": "stdout",
     "output_type": "stream",
     "text": [
      "Agency codes are HPD, DOHMH, NYPD, DOT, TLC, DOB, DSNY, DEP, CHALL, HRA, DPR, DOF, DCA, DOE, FDNY, EDC, DHS, DOITT, DCLA, OATH, DFTA, OCME, OEM, AJC, DOC, DOP, MOIA, DV, OPS, MOPD, LAW, NYCPPF, NYCERS, COIB, NYCSERVICE, CCRB, NYCOOA, NYCHA, MOC, MOVA, TFA, OCHIA, OPA, DYCD, MOFTB, LOFT, DCAS, UNCC.\n",
      "Enter an Agency code ()not case-sensitive), \n",
      "or enter 'finish' to exit: hpd\n"
     ]
    }
   ],
   "source": [
    "agencies = list(df.Agency.unique())\n",
    "while True:\n",
    "    agency = get_agency(agencies)\n",
    "\n",
    "    if agency ==\"FINISH\":\n",
    "        break\n",
    "    else:\n",
    "        print \"\\nPlotting %s bar chart...\" %agency\n",
    "        df_agency = df[df.Agency == agency]\n",
    "        draw_agency_pie(df_agency, agency)\n",
    "\n"
   ]
  },
  {
   "cell_type": "code",
   "execution_count": 36,
   "metadata": {
    "collapsed": true
   },
   "outputs": [],
   "source": [
    "df_groupby = df[['Unique Key', 'Borough']].groupby('Borough').count()"
   ]
  },
  {
   "cell_type": "code",
   "execution_count": 37,
   "metadata": {
    "collapsed": false
   },
   "outputs": [
    {
     "data": {
      "text/html": [
       "<div style=\"max-height:1000px;max-width:1500px;overflow:auto;\">\n",
       "<table border=\"1\" class=\"dataframe\">\n",
       "  <thead>\n",
       "    <tr style=\"text-align: right;\">\n",
       "      <th></th>\n",
       "      <th>Unique Key</th>\n",
       "    </tr>\n",
       "    <tr>\n",
       "      <th>Borough</th>\n",
       "      <th></th>\n",
       "    </tr>\n",
       "  </thead>\n",
       "  <tbody>\n",
       "    <tr>\n",
       "      <th>BRONX</th>\n",
       "      <td> 339815</td>\n",
       "    </tr>\n",
       "    <tr>\n",
       "      <th>BROOKLYN</th>\n",
       "      <td> 555692</td>\n",
       "    </tr>\n",
       "    <tr>\n",
       "      <th>MANHATTAN</th>\n",
       "      <td> 372931</td>\n",
       "    </tr>\n",
       "    <tr>\n",
       "      <th>QUEENS</th>\n",
       "      <td> 406925</td>\n",
       "    </tr>\n",
       "    <tr>\n",
       "      <th>STATEN ISLAND</th>\n",
       "      <td>  90239</td>\n",
       "    </tr>\n",
       "  </tbody>\n",
       "</table>\n",
       "</div>"
      ],
      "text/plain": [
       "               Unique Key\n",
       "Borough                  \n",
       "BRONX              339815\n",
       "BROOKLYN           555692\n",
       "MANHATTAN          372931\n",
       "QUEENS             406925\n",
       "STATEN ISLAND       90239"
      ]
     },
     "execution_count": 37,
     "metadata": {},
     "output_type": "execute_result"
    }
   ],
   "source": [
    "df_groupby.head()"
   ]
  },
  {
   "cell_type": "code",
   "execution_count": null,
   "metadata": {
    "collapsed": true
   },
   "outputs": [],
   "source": []
  }
 ],
 "metadata": {
  "kernelspec": {
   "display_name": "Python 2",
   "language": "python",
   "name": "python2"
  },
  "language_info": {
   "codemirror_mode": {
    "name": "ipython",
    "version": 2
   },
   "file_extension": ".py",
   "mimetype": "text/x-python",
   "name": "python",
   "nbconvert_exporter": "python",
   "pygments_lexer": "ipython2",
   "version": "2.7.9"
  }
 },
 "nbformat": 4,
 "nbformat_minor": 0
}
